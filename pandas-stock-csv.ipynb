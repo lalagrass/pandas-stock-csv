{
 "cells": [
  {
   "cell_type": "markdown",
   "metadata": {},
   "source": [
    "# Import"
   ]
  },
  {
   "cell_type": "code",
   "execution_count": 1,
   "metadata": {},
   "outputs": [],
   "source": [
    "import datetime as dt\n",
    "import matplotlib.pyplot as plt\n",
    "from matplotlib import style\n",
    "import pandas as pd\n",
    "import pandas_datareader.data as web"
   ]
  },
  {
   "cell_type": "markdown",
   "metadata": {},
   "source": [
    "# Fetch and Save to .csv"
   ]
  },
  {
   "cell_type": "code",
   "execution_count": 12,
   "metadata": {},
   "outputs": [
    {
     "name": "stdout",
     "output_type": "stream",
     "text": [
      "                Open      High       Low     Close        Volume\n",
      "Date                                                            \n",
      "2018-05-07  10581.78  10632.62  10555.56  10604.91           NaN\n",
      "2018-05-04  10516.45  10566.37  10500.97  10529.37  2.080120e+09\n",
      "2018-05-03  10578.98  10578.98  10509.03  10514.18  2.129652e+09\n",
      "2018-05-02  10665.52  10683.90  10601.10  10618.81  2.278694e+09\n",
      "2018-04-30  10553.41  10660.61  10539.63  10657.88  2.175899e+09\n"
     ]
    }
   ],
   "source": [
    "style.use('ggplot')\n",
    "\n",
    "start = dt.datetime(2000, 1, 1)\n",
    "end = dt.datetime.now()\n",
    "#stock_name='^DJI'\n",
    "stock_name='^TWSE'\n",
    "\n",
    "df = web.DataReader(stock_name, 'stooq', start, end)\n",
    "df.reset_index(inplace=True)\n",
    "df.set_index(\"Date\", inplace=True)\n",
    "\n",
    "\n",
    "print(df.head())\n",
    "\n",
    "df.to_csv('stock.csv')\n"
   ]
  },
  {
   "cell_type": "markdown",
   "metadata": {},
   "source": [
    "# Load .csv and plot"
   ]
  },
  {
   "cell_type": "code",
   "execution_count": 13,
   "metadata": {},
   "outputs": [
    {
     "name": "stdout",
     "output_type": "stream",
     "text": [
      "                Open      High       Low     Close       Volume\n",
      "Date                                                           \n",
      "2018-05-07  24317.66  24479.45  24263.42  24357.32          NaN\n",
      "2018-05-04  23865.22  24333.35  23778.87  24262.51   93759520.0\n",
      "2018-05-03  23836.23  23996.15  23531.31  23930.15  111490712.0\n",
      "2018-05-02  24097.63  24185.52  23886.30  23924.98  105000072.0\n",
      "2018-05-01  24117.29  24117.29  23808.19  24099.05   99079536.0\n"
     ]
    },
    {
     "data": {
      "image/png": "[encoded data removed]",
      "text/plain": [
       "<matplotlib.figure.Figure at 0x1ebc4e909e8>"
      ]
     },
     "metadata": {},
     "output_type": "display_data"
    }
   ],
   "source": [
    "df = pd.read_csv('DJIA.csv', parse_dates=True, index_col=0)\n",
    "print(df.head())\n",
    "df['Close'].plot()\n",
    "plt.show()\n"
   ]
  },
  {
   "cell_type": "code",
   "execution_count": null,
   "metadata": {},
   "outputs": [],
   "source": []
  },
  {
   "cell_type": "code",
   "execution_count": null,
   "metadata": {},
   "outputs": [],
   "source": []
  },
  {
   "cell_type": "code",
   "execution_count": null,
   "metadata": {},
   "outputs": [],
   "source": []
  },
  {
   "cell_type": "code",
   "execution_count": null,
   "metadata": {},
   "outputs": [],
   "source": []
  },
  {
   "cell_type": "code",
   "execution_count": null,
   "metadata": {},
   "outputs": [],
   "source": []
  },
  {
   "cell_type": "code",
   "execution_count": null,
   "metadata": {},
   "outputs": [],
   "source": []
  }
 ],
 "metadata": {
  "kernelspec": {
   "display_name": "Python 3",
   "language": "python",
   "name": "python3"
  },
  "language_info": {
   "codemirror_mode": {
    "name": "ipython",
    "version": 3
   },
   "file_extension": ".py",
   "mimetype": "text/x-python",
   "name": "python",
   "nbconvert_exporter": "python",
   "pygments_lexer": "ipython3",
   "version": "3.6.4"
  }
 },
 "nbformat": 4,
 "nbformat_minor": 2
}
